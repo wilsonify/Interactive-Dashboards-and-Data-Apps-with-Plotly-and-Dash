{
 "cells": [
  {
   "cell_type": "markdown",
   "metadata": {},
   "source": [
    "# Chapter 2 - Exploring the Structure of a Dash App\n",
    "\n",
    "* Using Jupyter Notebooks to run Dash apps \n",
    "* Creating a standalone pure Python function \n",
    "* Understanding the id parameter of Dash components \n",
    "* Using Dash Inputs and Outputs \n",
    "* Incorporating the function into the app - creating your first reactive program \n",
    "* Running your first interactive app "
   ]
  },
  {
   "cell_type": "code",
   "execution_count": 8,
   "metadata": {},
   "outputs": [],
   "source": [
    "import os\n",
    "import pandas as pd\n",
    "#path_to_this_file = os.path.abspath(__file__)\n",
    "#path_to_this_folder, this_file = os.path.split(path_to_this_file)\n",
    "#path_to_parent_folder, this_folder = os.path.split(path_to_this_folder)\n",
    "path_to_data = f\"../data\""
   ]
  },
  {
   "cell_type": "code",
   "execution_count": null,
   "metadata": {},
   "outputs": [
    {
     "data": {
      "text/html": [
       "\n",
       "        <iframe\n",
       "            width=\"100%\"\n",
       "            height=\"650\"\n",
       "            src=\"http://127.0.0.1:8050/\"\n",
       "            frameborder=\"0\"\n",
       "            allowfullscreen\n",
       "        ></iframe>\n",
       "        "
      ],
      "text/plain": [
       "<IPython.lib.display.IFrame at 0x7fa60f296100>"
      ]
     },
     "metadata": {},
     "output_type": "display_data"
    }
   ],
   "source": [
    "from jupyter_dash import JupyterDash\n",
    "import dash_core_components as dcc\n",
    "import dash_html_components as html\n",
    "from dash.dependencies import Output, Input\n",
    "from dash_table import DataTable\n",
    "\n",
    "app = JupyterDash(__name__)\n",
    "app.layout = html.Div([\n",
    "    dcc.Textarea(id='input_file_path_text_area'),\n",
    "    html.Br(),\n",
    "    html.Div(id='input_file_path_text_area_output'),\n",
    "    html.Br(),\n",
    "    html.Div(id=\"data_table_output\"),\n",
    "    \n",
    "])\n",
    "\n",
    "@app.callback(Output('input_file_path_text_area_output', 'children'),\n",
    "              Input('input_file_path_text_area', 'value'))\n",
    "def capture_input_file_path(input_text):\n",
    "    if input_text is None:\n",
    "        return \"nothing to see here\"\n",
    "    return f\"{input_text}\"\n",
    "\n",
    "@app.callback(\n",
    "    Output(\"data_table_output\", \"children\"),\n",
    "    Input('input_file_path_text_area', 'value'),\n",
    ")\n",
    "def display_data(input_text):\n",
    "    if input_text is None:\n",
    "        return \"no data\"\n",
    "    poverty = pd.read_csv(f\"{input_text}\", low_memory=False)\n",
    "    dt = DataTable(\n",
    "        data=df.to_dict('records'),\n",
    "              columns=[{'name': col, 'id': col} for col in df.columns],\n",
    "              style_header={'whiteSpace': 'normal'},\n",
    "              #fixed_rows={'headers': True},\n",
    "              virtualization=True,\n",
    "              style_table={'height': '400px'})\n",
    "\n",
    "    return dt\n",
    "\n",
    "\n",
    "if __name__ == '__main__':\n",
    "    app.run_server(mode='inline')"
   ]
  },
  {
   "cell_type": "markdown",
   "metadata": {},
   "source": [
    "Create a subset of poverty containing only countries, from the year 2000, and \n",
    "containing columns that have Country Name or have the income share of the \n",
    "top and bottom 10% of the population. We use the filter method with a regular \n",
    "expression to achieve that:"
   ]
  },
  {
   "cell_type": "code",
   "execution_count": null,
   "metadata": {},
   "outputs": [],
   "source": []
  },
  {
   "cell_type": "code",
   "execution_count": null,
   "metadata": {},
   "outputs": [],
   "source": [
    "2. Create an app in JupyterLab with a layout attribute: \n",
    "app = JupyterDash(__name__, external_stylesheets=[dbc.\n",
    "themes.COSMO])\n",
    "\n",
    "3. Pass a DataTable object to the div just created. As a minimum, a table requires \n",
    "values for the data parameter, as well as the columns parameter. One of the \n",
    "easiest ways to do this is by providing a dictionary converted from a DataFrame, \n",
    "using the to_dict('records') method. columns needs to be a list of \n",
    "dictionaries, where each dictionary contains the name and id keys. The name is \n",
    "what appears to users, and the ID is the value that will actually be used:"
   ]
  },
  {
   "cell_type": "code",
   "execution_count": null,
   "metadata": {},
   "outputs": [],
   "source": []
  },
  {
   "cell_type": "code",
   "execution_count": null,
   "metadata": {},
   "outputs": [],
   "source": [
    "import os\n",
    "os.listdir('../data')"
   ]
  },
  {
   "cell_type": "code",
   "execution_count": null,
   "metadata": {},
   "outputs": [],
   "source": [
    "import pandas as pd\n",
    "poverty_data = pd.read_csv('../data/PovStatsData.csv')\n",
    "poverty_data.head(3)"
   ]
  },
  {
   "cell_type": "code",
   "execution_count": null,
   "metadata": {},
   "outputs": [],
   "source": [
    "from jupyter_dash import JupyterDash\n",
    "import dash_html_components as html\n",
    "import dash_core_components as dcc\n",
    "import dash_bootstrap_components as dbc\n",
    "from dash.dependencies import Output, Input\n",
    "\n",
    "app = JupyterDash(__name__)\n",
    "\n",
    "app.layout = html.Div([\n",
    "        dcc.Dropdown(id='country',\n",
    "                     options=[{'label': country, 'value': country}\n",
    "                              for country in poverty_data['Country Name'].unique()]),\n",
    "        html.Br(),\n",
    "        html.Div(id='report')\n",
    "])\n",
    "\n",
    "@app.callback(Output('report', 'children'),\n",
    "              Input('country', 'value'))\n",
    "def display_country_report(country):\n",
    "    if country is None:\n",
    "        return ''\n",
    "    filtered_df = poverty_data[(poverty_data['Country Name']==country) &\n",
    "                             (poverty_data['Indicator Name']=='Population, total')]\n",
    "    population = filtered_df.loc[:, '2010'].values[0]\n",
    "\n",
    "    return [html.H3(country),\n",
    "            f'The population of {country} in 2010 was {population:,.0f}.']\n",
    "\n",
    "if __name__ == '__main__':\n",
    "    app.run_server(mode='external', height=200, width='30%', port=8051)"
   ]
  }
 ],
 "metadata": {
  "kernelspec": {
   "display_name": "Python 3",
   "language": "python",
   "name": "python3"
  },
  "language_info": {
   "codemirror_mode": {
    "name": "ipython",
    "version": 3
   },
   "file_extension": ".py",
   "mimetype": "text/x-python",
   "name": "python",
   "nbconvert_exporter": "python",
   "pygments_lexer": "ipython3",
   "version": "3.8.10"
  }
 },
 "nbformat": 4,
 "nbformat_minor": 4
}
