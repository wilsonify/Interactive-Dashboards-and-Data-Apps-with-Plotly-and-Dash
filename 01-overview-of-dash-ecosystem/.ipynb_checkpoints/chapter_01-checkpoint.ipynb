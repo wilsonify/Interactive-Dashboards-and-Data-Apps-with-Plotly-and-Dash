{
 "cells": [
  {
   "cell_type": "code",
   "execution_count": 1,
   "metadata": {},
   "outputs": [],
   "source": [
    "# You may want to reload submodules if you've edited the code in one.\n",
    "# IPython comes with automatic reloading magic.\n",
    "# You can reload all changed modules before executing a new line.\n",
    "%load_ext autoreload\n",
    "%autoreload 2"
   ]
  },
  {
   "cell_type": "markdown",
   "metadata": {},
   "source": [
    "# Chapter 1 - The structure of a Dash app\n",
    "\n",
    "* Setting up your environment \n",
    "* Exploring Dash and other supporting packages \n",
    "* Understanding the general structure of a Dash app \n",
    "* Creating and running the simplest app \n",
    "* Adding HTML and other components to the app \n",
    "* Learning how to structure the layout and managing themes "
   ]
  },
  {
   "cell_type": "code",
   "execution_count": 2,
   "metadata": {},
   "outputs": [],
   "source": [
    "import pandas as pd\n",
    "import numpy as np\n",
    "import scipy as sp\n",
    "import chart_studio.plotly as py\n",
    "import plotly.figure_factory as ff\n"
   ]
  },
  {
   "cell_type": "code",
   "execution_count": null,
   "metadata": {},
   "outputs": [],
   "source": [
    "df = pd.read_csv(\"school_earnings.csv\")\n",
    "table = ff.create_table(df)\n",
    "table"
   ]
  },
  {
   "cell_type": "code",
   "execution_count": null,
   "metadata": {},
   "outputs": [],
   "source": [
    "import plotly.graph_objects as go\n",
    "fig = go.FigureWidget(data=go.Bar(y=[2, 3, 1]))\n",
    "fig.show()"
   ]
  },
  {
   "cell_type": "code",
   "execution_count": null,
   "metadata": {},
   "outputs": [],
   "source": [
    "import plotly.graph_objects as go\n",
    "app_code = [\n",
    "    'import dash<br>import dash_html_components as html<br>import dash_core_components as dcc<br>',\n",
    "    'app = dash.Dash(__name__)<br>',\n",
    "    'app.layout = html.Div([<br>    dcc.Dropdown()<br>    dcc.Graph()<br>    ...<br>])',\n",
    "    '@app.callback()<br>    ...<br>@app.callback()<br>    ...',\n",
    "    \"if __name__ == '__main__':<br>    app.run_server()\"]\n",
    "\n",
    "app_parts = [\n",
    "    'imports (boilerplate)', \n",
    "    'app instantiation',\n",
    "    'app layout: a list of HTML and/or interactive components',\n",
    "    'callback functions',\n",
    "    'running the app']\n",
    "\n",
    "fig = go.FigureWidget()\n",
    "fig.add_table(header={'values': ['App parts', 'app.py'], },\n",
    "              cells={'values': [app_parts, app_code], \n",
    "                     'align':['center','left'],\n",
    "                     'font': {'family': ['Arial', 'Courier']}},\n",
    "              columnwidth=[250, 500])\n",
    "fig.layout.height= 600\n",
    "fig.layout.title = 'The Structure of a Dash App'\n",
    "fig"
   ]
  },
  {
   "cell_type": "markdown",
   "metadata": {},
   "source": [
    "## What Dash is made of:"
   ]
  },
  {
   "cell_type": "code",
   "execution_count": null,
   "metadata": {},
   "outputs": [],
   "source": [
    "import plotly.graph_objects as go\n",
    "source='https://raw.githubusercontent.com/cldougl/plot_images/add_r_img/vox.png'\n",
    "sources = [\n",
    "    'https://flask.palletsprojects.com/en/1.1.x/_images/flask-logo.png',\n",
    "    'https://images.prismic.io/plotly-marketing-website/bd1f702a-b623-48ab-a459-3ee92a7499b4_logo-plotly.svg?auto=compress,format',\n",
    "    'data:image/svg+xml;base64,PHN2ZyB4bWxucz0iaHR0cDovL3d3dy53My5vcmcvMjAwMC9zdmciIHZpZXdCb3g9Ii0xMS41IC0xMC4yMzE3NCAyMyAyMC40NjM0OCI+CiAgPHRpdGxlPlJlYWN0IExvZ288L3RpdGxlPgogIDxjaXJjbGUgY3g9IjAiIGN5PSIwIiByPSIyLjA1IiBmaWxsPSIjNjFkYWZiIi8+CiAgPGcgc3Ryb2tlPSIjNjFkYWZiIiBzdHJva2Utd2lkdGg9IjEiIGZpbGw9Im5vbmUiPgogICAgPGVsbGlwc2Ugcng9IjExIiByeT0iNC4yIi8+CiAgICA8ZWxsaXBzZSByeD0iMTEiIHJ5PSI0LjIiIHRyYW5zZm9ybT0icm90YXRlKDYwKSIvPgogICAgPGVsbGlwc2Ugcng9IjExIiByeT0iNC4yIiB0cmFuc2Zvcm09InJvdGF0ZSgxMjApIi8+CiAgPC9nPgo8L3N2Zz4K',\n",
    "    '/Users/Elias/GoogleDrive/dash_book/dash-logo.png'\n",
    "\n",
    "]\n",
    "\n",
    "fig = go.Figure()\n",
    "\n",
    "fig.add_scatter(x=[1, 2, 3, 4, 5, 6, 7],\n",
    "                y=[1, 2, 1, 2, 1, 2, 1], \n",
    "                text=['Flask<br>backend server', '➕', 'Plotly<br>charting library', \n",
    "                      '➕', 'React<br>interactive components', '=', 'Dash'],\n",
    "                textfont={'size': 16},\n",
    "                mode='text')\n",
    "\n",
    "for i, j in enumerate([1, 3, 5, 7]):\n",
    "    fig.add_layout_image(source=sources[i], \n",
    "                         xref=\"paper\", yref=\"paper\",\n",
    "                         x=j/8, \n",
    "                         y=.5,\n",
    "                         sizex=0.2, sizey=0.2,\n",
    "                         xanchor=\"center\",\n",
    "                         yanchor=\"bottom\")\n",
    "\n",
    "fig.layout.yaxis.range = [0, 4]\n",
    "fig.layout.xaxis.range = [0, 8]\n",
    "\n",
    "fig.layout.xaxis.showticklabels = False\n",
    "fig.layout.xaxis.showgrid = False\n",
    "fig.layout.xaxis.zeroline = False\n",
    "\n",
    "fig.layout.yaxis.showticklabels = False\n",
    "fig.layout.yaxis.showgrid = False\n",
    "fig.layout.yaxis.zeroline = False\n",
    "fig.layout.template = 'none'\n",
    "fig.layout.title = 'What Dash is made of'\n",
    "fig"
   ]
  },
  {
   "cell_type": "markdown",
   "metadata": {},
   "source": [
    "## Parameters common to all `dash_html_components`"
   ]
  },
  {
   "cell_type": "code",
   "execution_count": null,
   "metadata": {},
   "outputs": [],
   "source": [
    "import inspect\n",
    "from functools import reduce\n",
    "from inspect import signature\n",
    "\n",
    "\n",
    "import dash_html_components as html\n",
    "\n",
    "\n",
    "count = 0\n",
    "parameters = []\n",
    "for h in dir(html):\n",
    "    if h[0].isupper():\n",
    "        count += 1\n",
    "        keys = inspect.signature(eval(f'html.{h}')).parameters.keys()\n",
    "        parameters.append(set(keys))\n",
    "\n",
    "print('Number of html components:', count)\n",
    "print('\\nParameters available to all:\\n')\n",
    "print(reduce(set.intersection, parameters))"
   ]
  },
  {
   "cell_type": "code",
   "execution_count": null,
   "metadata": {},
   "outputs": [],
   "source": [
    "print(*sorted(reduce(set.intersection, parameters)), sep=', ')"
   ]
  },
  {
   "cell_type": "markdown",
   "metadata": {},
   "source": [
    "## Bootstrap - how column widths work:"
   ]
  },
  {
   "cell_type": "code",
   "execution_count": null,
   "metadata": {},
   "outputs": [],
   "source": [
    "import plotly.graph_objects as go\n",
    "fig = go.Figure()\n",
    "\n",
    "\n",
    "fig.add_shape(type='rect', x0=0, x1=3, y0=10, y1=13, fillcolor='orange', opacity=0.5)\n",
    "fig.add_scatter(x=[1.5], y=[12], mode='text', text='Col<br>width=3')\n",
    "fig.add_shape(type='rect', x0=4, x1=10, y0=6, y1=10, opacity=0.5)\n",
    "fig.add_scatter(x=[7], y=[8], mode='text', text='Col<br>width=6')\n",
    "fig.add_shape(type='rect', x0=3, x1=7, y0=2, y1=4, fillcolor='steelblue', opacity=0.5)\n",
    "fig.add_scatter(x=[5], y=[3], mode='text', text='Col<br>width=4')\n",
    "\n",
    "fig.layout.xaxis.tickvals = list(range(0, 13))\n",
    "fig.layout.yaxis.tickvals = []\n",
    "fig.layout.xaxis.range = [0, 12]\n",
    "fig.layout.showlegend = False\n",
    "fig.layout.title = 'Bootstrap\\'s twelve-column split of the screen'\n",
    "\n",
    "fig"
   ]
  },
  {
   "cell_type": "markdown",
   "metadata": {},
   "source": [
    "## Bootstrap - how column widths work (smaller screens):"
   ]
  },
  {
   "cell_type": "code",
   "execution_count": null,
   "metadata": {},
   "outputs": [],
   "source": [
    "import plotly.graph_objects as go\n",
    "fig = go.Figure()\n",
    "\n",
    "\n",
    "fig.add_shape(type='rect', x0=0, x1=3, y0=10, y1=13, fillcolor='orange', opacity=0.5)\n",
    "fig.add_scatter(x=[1.5], y=[12], mode='text', text='Col<br>width=3')\n",
    "fig.add_shape(type='rect', x0=4, x1=10, y0=6, y1=10, opacity=0.5)\n",
    "fig.add_scatter(x=[7], y=[8], mode='text', text='Col<br>width=6')\n",
    "fig.add_shape(type='rect', x0=3, x1=7, y0=2, y1=4, fillcolor='steelblue', opacity=0.5)\n",
    "fig.add_scatter(x=[5], y=[3], mode='text', text='Col<br>width=4')\n",
    "\n",
    "fig.layout.xaxis.tickvals = list(range(0, 13))\n",
    "fig.layout.yaxis.tickvals = []\n",
    "fig.layout.xaxis.range = [0, 12]\n",
    "fig.layout.showlegend = False\n",
    "fig.layout.title = 'Bootstrap\\'s twelve-column split of the screen'\n",
    "fig.layout.margin.r = 500\n",
    "\n",
    "fig"
   ]
  },
  {
   "cell_type": "markdown",
   "metadata": {},
   "source": [
    "## Bootstrap - variable column widths based on screen size"
   ]
  },
  {
   "cell_type": "code",
   "execution_count": null,
   "metadata": {},
   "outputs": [],
   "source": [
    "fig = go.Figure()\n",
    "\n",
    "fig.add_shape(type='rect', x0=0, x1=13, y0=10, y1=13, fillcolor='orange', opacity=0.5)\n",
    "fig.add_scatter(x=[6], y=[12], mode='text', text='Col<br>lg=3, md=12')\n",
    "\n",
    "\n",
    "fig.add_shape(type='rect', x0=0, x1=13, y0=6, y1=10, opacity=0.5)\n",
    "fig.add_scatter(x=[6], y=[8], mode='text', text='Col<br>lg=6, md=12')\n",
    "\n",
    "fig.add_shape(type='rect', x0=0, x1=13, y0=2, y1=4, fillcolor='steelblue', opacity=0.5)\n",
    "fig.add_scatter(x=[6], y=[3], mode='text', text='Col<br>lg=4, md=12')\n",
    "\n",
    "fig.layout.xaxis.tickvals = list(range(0, 13))\n",
    "fig.layout.yaxis.tickvals = []\n",
    "fig.layout.xaxis.range = [0, 12]\n",
    "fig.layout.showlegend = False\n",
    "fig.layout.title = 'Bootstrap\\'s twelve-column split of the screen'\n",
    "fig.layout.margin.r = 500\n",
    "\n",
    "fig"
   ]
  },
  {
   "cell_type": "markdown",
   "metadata": {},
   "source": [
    "## Bootstrap - columns side by side (within rows)"
   ]
  },
  {
   "cell_type": "code",
   "execution_count": null,
   "metadata": {},
   "outputs": [],
   "source": [
    "import plotly.graph_objects as go\n",
    "fig = go.Figure()\n",
    "\n",
    "\n",
    "fig.add_shape(type='rect', x0=0, x1=2, y0=0, y1=15, fillcolor='orange', opacity=0.5)\n",
    "fig.add_scatter(x=[1], y=[8], mode='text', text='Col<br>width=2')\n",
    "\n",
    "fig.add_shape(type='rect', x0=2, x1=7, y0=0, y1=15, opacity=0.5)\n",
    "fig.add_scatter(x=[4.5], y=[8], mode='text', text='Col<br>width=5')\n",
    "\n",
    "fig.add_shape(type='rect', x0=7, x1=11, y0=0, y1=15, fillcolor='steelblue', opacity=0.5)\n",
    "fig.add_scatter(x=[9], y=[8], mode='text', text='Col<br>width=4')\n",
    "\n",
    "fig.layout.xaxis.tickvals = list(range(0, 13))\n",
    "fig.layout.yaxis.tickvals = []\n",
    "fig.layout.xaxis.range = [0, 12]\n",
    "fig.layout.showlegend = False\n",
    "fig.layout.title = 'Bootstrap\\'s twelve-column split of the screen'\n",
    "\n",
    "fig"
   ]
  },
  {
   "cell_type": "markdown",
   "metadata": {},
   "source": [
    "## Convert `matplotlib` figures to `Plotly`"
   ]
  },
  {
   "cell_type": "code",
   "execution_count": null,
   "metadata": {},
   "outputs": [],
   "source": [
    "#%config InlineBackend.figure_format = 'retina'\n",
    "import matplotlib.pyplot as plt\n",
    "from plotly.tools import mpl_to_plotly\n",
    "\n",
    "mpl_fig, ax = plt.subplots()\n",
    "ax.scatter(x=[1, 2, 3], y=[23, 12, 34])\n",
    "plotly_fig = mpl_to_plotly(mpl_fig)\n",
    "plotly_fig\n"
   ]
  },
  {
   "cell_type": "code",
   "execution_count": 3,
   "metadata": {},
   "outputs": [],
   "source": [
    "import app_v1_4\n",
    "import jupyterlab_dash\n",
    "import dash\n",
    "import dash_html_components as html\n",
    "\n",
    "viewer = jupyterlab_dash.AppViewer()\n",
    "viewer.show(app_v1_4.app)"
   ]
  },
  {
   "cell_type": "code",
   "execution_count": null,
   "metadata": {},
   "outputs": [],
   "source": []
  }
 ],
 "metadata": {
  "kernelspec": {
   "display_name": "Python 3",
   "language": "python",
   "name": "python3"
  },
  "language_info": {
   "codemirror_mode": {
    "name": "ipython",
    "version": 3
   },
   "file_extension": ".py",
   "mimetype": "text/x-python",
   "name": "python",
   "nbconvert_exporter": "python",
   "pygments_lexer": "ipython3",
   "version": "3.8.10"
  }
 },
 "nbformat": 4,
 "nbformat_minor": 4
}
